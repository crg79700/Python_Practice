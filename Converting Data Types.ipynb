{
 "cells": [
  {
   "metadata": {
    "ExecuteTime": {
     "end_time": "2025-03-13T16:34:39.493340Z",
     "start_time": "2025-03-13T16:34:39.489264Z"
    }
   },
   "cell_type": "code",
   "source": [
    "num_int = 7\n",
    "\n",
    "type(num_int)"
   ],
   "id": "5aef2dcebe25b962",
   "outputs": [
    {
     "data": {
      "text/plain": [
       "int"
      ]
     },
     "execution_count": 6,
     "metadata": {},
     "output_type": "execute_result"
    }
   ],
   "execution_count": 6
  },
  {
   "metadata": {
    "ExecuteTime": {
     "end_time": "2025-03-13T16:35:27.064007Z",
     "start_time": "2025-03-13T16:35:27.059950Z"
    }
   },
   "cell_type": "code",
   "source": [
    "num_str = '7'\n",
    "type(num_str)"
   ],
   "id": "8998ae5eb0356e7a",
   "outputs": [
    {
     "data": {
      "text/plain": [
       "str"
      ]
     },
     "execution_count": 10,
     "metadata": {},
     "output_type": "execute_result"
    }
   ],
   "execution_count": 10
  },
  {
   "metadata": {
    "ExecuteTime": {
     "end_time": "2025-03-13T16:36:04.747988Z",
     "start_time": "2025-03-13T16:36:04.744784Z"
    }
   },
   "cell_type": "code",
   "source": "num_str_conv = int(num_str)\n",
   "id": "4b13bdd42164dde9",
   "outputs": [],
   "execution_count": 14
  },
  {
   "metadata": {
    "ExecuteTime": {
     "end_time": "2025-03-13T16:36:20.221342Z",
     "start_time": "2025-03-13T16:36:20.218411Z"
    }
   },
   "cell_type": "code",
   "source": [
    "num_sum = num_int + num_str_conv\n",
    "print(num_sum)"
   ],
   "id": "d5da9d37d521ff66",
   "outputs": [
    {
     "name": "stdout",
     "output_type": "stream",
     "text": [
      "14\n"
     ]
    }
   ],
   "execution_count": 19
  },
  {
   "metadata": {
    "ExecuteTime": {
     "end_time": "2025-03-13T16:38:53.293052Z",
     "start_time": "2025-03-13T16:38:53.288028Z"
    }
   },
   "cell_type": "code",
   "source": [
    "list_type = [1,2,3]\n",
    "\n",
    "type(list_type)"
   ],
   "id": "c07cc9fb53f0283c",
   "outputs": [
    {
     "data": {
      "text/plain": [
       "list"
      ]
     },
     "execution_count": 21,
     "metadata": {},
     "output_type": "execute_result"
    }
   ],
   "execution_count": 21
  },
  {
   "metadata": {
    "ExecuteTime": {
     "end_time": "2025-03-13T16:39:21.655631Z",
     "start_time": "2025-03-13T16:39:21.651673Z"
    }
   },
   "cell_type": "code",
   "source": [
    "tuple(list_type)\n",
    "\n",
    "type(tuple(list_type))"
   ],
   "id": "c345d5c5b894e01c",
   "outputs": [
    {
     "data": {
      "text/plain": [
       "tuple"
      ]
     },
     "execution_count": 25,
     "metadata": {},
     "output_type": "execute_result"
    }
   ],
   "execution_count": 25
  },
  {
   "metadata": {
    "ExecuteTime": {
     "end_time": "2025-03-13T16:40:08.029009Z",
     "start_time": "2025-03-13T16:40:08.025089Z"
    }
   },
   "cell_type": "code",
   "source": [
    "list_type = [1, 2, 3, 3, 2, 1, 2, 3]\n",
    "\n",
    "set(list_type)"
   ],
   "id": "8625c9b239576a42",
   "outputs": [
    {
     "data": {
      "text/plain": [
       "{1, 2, 3}"
      ]
     },
     "execution_count": 26,
     "metadata": {},
     "output_type": "execute_result"
    }
   ],
   "execution_count": 26
  },
  {
   "metadata": {
    "ExecuteTime": {
     "end_time": "2025-03-13T16:40:14.128658Z",
     "start_time": "2025-03-13T16:40:14.124378Z"
    }
   },
   "cell_type": "code",
   "source": "type(set(list_type))",
   "id": "658eac989835dae6",
   "outputs": [
    {
     "data": {
      "text/plain": [
       "set"
      ]
     },
     "execution_count": 28,
     "metadata": {},
     "output_type": "execute_result"
    }
   ],
   "execution_count": 28
  },
  {
   "metadata": {
    "ExecuteTime": {
     "end_time": "2025-03-13T16:41:16.819199Z",
     "start_time": "2025-03-13T16:41:16.815128Z"
    }
   },
   "cell_type": "code",
   "source": [
    "dict_type = {'name': \"Colin\", 'age': \"28\", 'hair_color': \"Blonde\"}\n",
    "\n",
    "type(dict_type)"
   ],
   "id": "71254ab1848d2f18",
   "outputs": [
    {
     "data": {
      "text/plain": [
       "dict"
      ]
     },
     "execution_count": 31,
     "metadata": {},
     "output_type": "execute_result"
    }
   ],
   "execution_count": 31
  },
  {
   "metadata": {
    "ExecuteTime": {
     "end_time": "2025-03-13T16:41:24.667548Z",
     "start_time": "2025-03-13T16:41:24.663738Z"
    }
   },
   "cell_type": "code",
   "source": "dict_type.items()",
   "id": "e6c76602ebf167",
   "outputs": [
    {
     "data": {
      "text/plain": [
       "dict_items([('name', 'Colin'), ('age', '28'), ('hair_color', 'Blonde')])"
      ]
     },
     "execution_count": 32,
     "metadata": {},
     "output_type": "execute_result"
    }
   ],
   "execution_count": 32
  },
  {
   "metadata": {
    "ExecuteTime": {
     "end_time": "2025-03-13T16:41:28.472534Z",
     "start_time": "2025-03-13T16:41:28.468665Z"
    }
   },
   "cell_type": "code",
   "source": "dict_type.keys()",
   "id": "7f03ba47af33af8c",
   "outputs": [
    {
     "data": {
      "text/plain": [
       "dict_keys(['name', 'age', 'hair_color'])"
      ]
     },
     "execution_count": 33,
     "metadata": {},
     "output_type": "execute_result"
    }
   ],
   "execution_count": 33
  },
  {
   "metadata": {
    "ExecuteTime": {
     "end_time": "2025-03-13T16:41:45.646937Z",
     "start_time": "2025-03-13T16:41:45.642829Z"
    }
   },
   "cell_type": "code",
   "source": "list(dict_type.keys())",
   "id": "7ea2f87082c2372d",
   "outputs": [
    {
     "data": {
      "text/plain": [
       "['name', 'age', 'hair_color']"
      ]
     },
     "execution_count": 34,
     "metadata": {},
     "output_type": "execute_result"
    }
   ],
   "execution_count": 34
  },
  {
   "metadata": {
    "ExecuteTime": {
     "end_time": "2025-03-13T16:42:03.594854Z",
     "start_time": "2025-03-13T16:42:03.590649Z"
    }
   },
   "cell_type": "code",
   "source": "list(dict_type.values())",
   "id": "f18aff7a72ca383a",
   "outputs": [
    {
     "data": {
      "text/plain": [
       "['Colin', '28', 'Blonde']"
      ]
     },
     "execution_count": 35,
     "metadata": {},
     "output_type": "execute_result"
    }
   ],
   "execution_count": 35
  },
  {
   "metadata": {
    "ExecuteTime": {
     "end_time": "2025-03-13T16:42:41.936672Z",
     "start_time": "2025-03-13T16:42:41.933259Z"
    }
   },
   "cell_type": "code",
   "source": [
    "long_str = \"I like to write Python code\"\n",
    "\n",
    "set(long_str)"
   ],
   "id": "a97c68c4ec7c43c0",
   "outputs": [
    {
     "data": {
      "text/plain": [
       "{' ',\n",
       " 'I',\n",
       " 'P',\n",
       " 'c',\n",
       " 'd',\n",
       " 'e',\n",
       " 'h',\n",
       " 'i',\n",
       " 'k',\n",
       " 'l',\n",
       " 'n',\n",
       " 'o',\n",
       " 'r',\n",
       " 't',\n",
       " 'w',\n",
       " 'y'}"
      ]
     },
     "execution_count": 38,
     "metadata": {},
     "output_type": "execute_result"
    }
   ],
   "execution_count": 38
  }
 ],
 "metadata": {
  "kernelspec": {
   "name": "python3",
   "language": "python",
   "display_name": "Python 3 (ipykernel)"
  }
 },
 "nbformat": 5,
 "nbformat_minor": 9
}
