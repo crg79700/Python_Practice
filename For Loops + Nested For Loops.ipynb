{
 "cells": [
  {
   "metadata": {
    "ExecuteTime": {
     "end_time": "2025-03-12T19:04:17.588497Z",
     "start_time": "2025-03-12T19:04:17.582150Z"
    }
   },
   "cell_type": "code",
   "source": [
    "#For Loops\n",
    "\n",
    "integers = [1, 2, 3, 4, 5]"
   ],
   "id": "4d1ef06e894c8fcf",
   "outputs": [],
   "execution_count": 1
  },
  {
   "metadata": {
    "ExecuteTime": {
     "end_time": "2025-03-12T19:20:24.951925Z",
     "start_time": "2025-03-12T19:20:24.948747Z"
    }
   },
   "cell_type": "code",
   "source": [
    "for i in integers:\n",
    "    print(i)"
   ],
   "id": "f89fb3ef03beca50",
   "outputs": [
    {
     "name": "stdout",
     "output_type": "stream",
     "text": [
      "1\n",
      "2\n",
      "3\n",
      "4\n",
      "5\n"
     ]
    }
   ],
   "execution_count": 6
  },
  {
   "metadata": {
    "ExecuteTime": {
     "end_time": "2025-03-12T19:20:12.847010Z",
     "start_time": "2025-03-12T19:20:12.843502Z"
    }
   },
   "cell_type": "code",
   "source": [
    "for num in integers:\n",
    "    print('yep!')"
   ],
   "id": "4f144ae553016913",
   "outputs": [
    {
     "name": "stdout",
     "output_type": "stream",
     "text": [
      "yep!\n",
      "yep!\n",
      "yep!\n",
      "yep!\n",
      "yep!\n"
     ]
    }
   ],
   "execution_count": 5
  },
  {
   "metadata": {
    "ExecuteTime": {
     "end_time": "2025-03-12T19:21:10.169992Z",
     "start_time": "2025-03-12T19:21:10.166621Z"
    }
   },
   "cell_type": "code",
   "source": [
    "for num in integers:\n",
    "    print(num + num)"
   ],
   "id": "5ea6abc016c0981c",
   "outputs": [
    {
     "name": "stdout",
     "output_type": "stream",
     "text": [
      "2\n",
      "4\n",
      "6\n",
      "8\n",
      "10\n"
     ]
    }
   ],
   "execution_count": 7
  },
  {
   "metadata": {
    "ExecuteTime": {
     "end_time": "2025-03-12T19:22:32.029550Z",
     "start_time": "2025-03-12T19:22:32.026330Z"
    }
   },
   "cell_type": "code",
   "source": "ice_cream_dict = {'name': 'Colin Gardner', 'weekly intake': 5, 'favorite ice creams': ['Chocolate', 'Brownie Batter', 'Chocolate Explosion']}",
   "id": "d47f9f48ac67b3f",
   "outputs": [],
   "execution_count": 10
  },
  {
   "metadata": {
    "ExecuteTime": {
     "end_time": "2025-03-12T19:23:00.949531Z",
     "start_time": "2025-03-12T19:23:00.946238Z"
    }
   },
   "cell_type": "code",
   "source": [
    "for cream in ice_cream_dict.values():\n",
    "    print(cream)"
   ],
   "id": "9bfee8a658278fd4",
   "outputs": [
    {
     "name": "stdout",
     "output_type": "stream",
     "text": [
      "Colin Gardner\n",
      "5\n",
      "['Chocolate', 'Brownie Batter', 'Chocolate Explosion']\n"
     ]
    }
   ],
   "execution_count": 12
  },
  {
   "metadata": {
    "ExecuteTime": {
     "end_time": "2025-03-12T19:23:49.592002Z",
     "start_time": "2025-03-12T19:23:49.589209Z"
    }
   },
   "cell_type": "code",
   "source": [
    "for key, value in ice_cream_dict.items():\n",
    "    print(key, '->', value)"
   ],
   "id": "bb7c93055020b012",
   "outputs": [
    {
     "name": "stdout",
     "output_type": "stream",
     "text": [
      "name -> Colin Gardner\n",
      "weekly intake -> 5\n",
      "favorite ice creams -> ['Chocolate', 'Brownie Batter', 'Chocolate Explosion']\n"
     ]
    }
   ],
   "execution_count": 14
  },
  {
   "metadata": {
    "ExecuteTime": {
     "end_time": "2025-03-12T19:26:20.508226Z",
     "start_time": "2025-03-12T19:26:20.504855Z"
    }
   },
   "cell_type": "code",
   "source": [
    "# Nested For Loops\n",
    "flavors = ['Chocolate', 'Brownie Batter', 'Chocolate Explosion']\n",
    "toppings = ['Hot Fudge', 'Sprinkles', 'Marshmallows']"
   ],
   "id": "1afd9ca1c64b1c93",
   "outputs": [],
   "execution_count": 15
  },
  {
   "metadata": {
    "ExecuteTime": {
     "end_time": "2025-03-12T19:27:05.976300Z",
     "start_time": "2025-03-12T19:27:05.972860Z"
    }
   },
   "cell_type": "code",
   "source": [
    "for one in flavors:\n",
    "    for two in toppings:\n",
    "        print (one, 'topped with', two)"
   ],
   "id": "4b20a9875aac436c",
   "outputs": [
    {
     "name": "stdout",
     "output_type": "stream",
     "text": [
      "Chocolate topped with Hot Fudge\n",
      "Chocolate topped with Sprinkles\n",
      "Chocolate topped with Marshmallows\n",
      "Brownie Batter topped with Hot Fudge\n",
      "Brownie Batter topped with Sprinkles\n",
      "Brownie Batter topped with Marshmallows\n",
      "Chocolate Explosion topped with Hot Fudge\n",
      "Chocolate Explosion topped with Sprinkles\n",
      "Chocolate Explosion topped with Marshmallows\n"
     ]
    }
   ],
   "execution_count": 16
  }
 ],
 "metadata": {
  "kernelspec": {
   "name": "python3",
   "language": "python",
   "display_name": "Python 3 (ipykernel)"
  }
 },
 "nbformat": 5,
 "nbformat_minor": 9
}
