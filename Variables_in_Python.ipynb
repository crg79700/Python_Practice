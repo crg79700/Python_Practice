{
 "cells": [
  {
   "cell_type": "markdown",
   "id": "0357378a-a1be-4b82-bba7-0768bccc1058",
   "metadata": {},
   "source": [
    "# Variables in Python"
   ]
  },
  {
   "cell_type": "code",
   "id": "e2f4fd94-82c5-4829-a1b9-e76fac22528e",
   "metadata": {
    "ExecuteTime": {
     "end_time": "2024-12-11T20:35:11.664794Z",
     "start_time": "2024-12-11T20:35:11.655726Z"
    }
   },
   "source": [
    "x = 22 \n",
    "print(x)"
   ],
   "outputs": [
    {
     "name": "stdout",
     "output_type": "stream",
     "text": [
      "22\n"
     ]
    }
   ],
   "execution_count": 1
  },
  {
   "cell_type": "code",
   "id": "afc8c124-82bc-4244-8254-231413470871",
   "metadata": {
    "ExecuteTime": {
     "end_time": "2024-12-11T20:35:15.091176Z",
     "start_time": "2024-12-11T20:35:15.085939Z"
    }
   },
   "source": [
    "type(x)"
   ],
   "outputs": [
    {
     "data": {
      "text/plain": [
       "int"
      ]
     },
     "execution_count": 2,
     "metadata": {},
     "output_type": "execute_result"
    }
   ],
   "execution_count": 2
  },
  {
   "cell_type": "code",
   "id": "fa670a79-cfdb-40ab-ac5b-3418bf45d9e0",
   "metadata": {
    "ExecuteTime": {
     "end_time": "2024-12-11T20:35:17.405324Z",
     "start_time": "2024-12-11T20:35:17.400429Z"
    }
   },
   "source": [
    "y = 'Mint Chocolate Chip'\n",
    "\n",
    "print(y)\n",
    "\n",
    "type(y)"
   ],
   "outputs": [
    {
     "name": "stdout",
     "output_type": "stream",
     "text": [
      "Mint Chocolate Chip\n"
     ]
    },
    {
     "data": {
      "text/plain": [
       "str"
      ]
     },
     "execution_count": 3,
     "metadata": {},
     "output_type": "execute_result"
    }
   ],
   "execution_count": 3
  },
  {
   "cell_type": "code",
   "id": "2e99ef1c-bbec-4d6c-bb9a-76e6747c60fc",
   "metadata": {
    "ExecuteTime": {
     "end_time": "2024-12-11T20:35:19.735237Z",
     "start_time": "2024-12-11T20:35:19.731334Z"
    }
   },
   "source": [
    "# You can overwrite previous variables\n",
    "y = 'Chocolate'\n",
    "\n",
    "print(y)"
   ],
   "outputs": [
    {
     "name": "stdout",
     "output_type": "stream",
     "text": [
      "Chocolate\n"
     ]
    }
   ],
   "execution_count": 4
  },
  {
   "cell_type": "code",
   "id": "49e888e2-cdbe-45e9-97af-87fe650ec291",
   "metadata": {
    "ExecuteTime": {
     "end_time": "2024-12-11T20:35:21.089324Z",
     "start_time": "2024-12-11T20:35:21.086363Z"
    }
   },
   "source": [
    "y = 'Chocolate'\n",
    "\n",
    "y = 'Mint Chocolate Chip'\n",
    "\n",
    "print(y)\n"
   ],
   "outputs": [
    {
     "name": "stdout",
     "output_type": "stream",
     "text": [
      "Mint Chocolate Chip\n"
     ]
    }
   ],
   "execution_count": 5
  },
  {
   "cell_type": "code",
   "id": "22bd39d9-52b2-464e-99ec-c35dd65d937c",
   "metadata": {
    "ExecuteTime": {
     "end_time": "2024-12-11T20:35:22.764856Z",
     "start_time": "2024-12-11T20:35:22.761342Z"
    }
   },
   "source": [
    "x, y, z = 'Chocolate', 'Vanilla', 'Rocky Road'\n",
    "\n",
    "print(x)\n",
    "\n",
    "print(y)\n",
    "\n",
    "print(z)"
   ],
   "outputs": [
    {
     "name": "stdout",
     "output_type": "stream",
     "text": [
      "Chocolate\n",
      "Vanilla\n",
      "Rocky Road\n"
     ]
    }
   ],
   "execution_count": 6
  },
  {
   "cell_type": "code",
   "id": "04fb3a7c-a864-4078-801e-c57b9552a910",
   "metadata": {
    "ExecuteTime": {
     "end_time": "2024-12-11T20:35:24.588444Z",
     "start_time": "2024-12-11T20:35:24.584441Z"
    }
   },
   "source": [
    "x = y = z = 'Root Beer Float'\n",
    "\n",
    "print(x)\n",
    "\n",
    "print(y)\n",
    "\n",
    "print(z)"
   ],
   "outputs": [
    {
     "name": "stdout",
     "output_type": "stream",
     "text": [
      "Root Beer Float\n",
      "Root Beer Float\n",
      "Root Beer Float\n"
     ]
    }
   ],
   "execution_count": 7
  },
  {
   "cell_type": "code",
   "id": "1b9e0e7f-6b09-4d67-bf2d-1e123163feb3",
   "metadata": {
    "ExecuteTime": {
     "end_time": "2024-12-11T20:35:25.328115Z",
     "start_time": "2024-12-11T20:35:25.324329Z"
    }
   },
   "source": [
    "ice_cream = ['Chocolate', 'Vanilla', 'Rocky Road'] \n",
    "\n",
    "x , y, z = ice_cream\n",
    "\n",
    "print(x)\n",
    "\n",
    "print(y)\n",
    "\n",
    "print(z)"
   ],
   "outputs": [
    {
     "name": "stdout",
     "output_type": "stream",
     "text": [
      "Chocolate\n",
      "Vanilla\n",
      "Rocky Road\n"
     ]
    }
   ],
   "execution_count": 8
  },
  {
   "cell_type": "code",
   "execution_count": 42,
   "id": "651d1556-8000-4298-87b9-7b6bae6d7b9c",
   "metadata": {},
   "outputs": [],
   "source": [
    "# Camel Case (first letter is lowercase and the rest are capital)\n",
    "\n",
    "# Test Variable Case\n",
    "\n",
    "testVariableCase = 'Vanilla Swirl' "
   ]
  },
  {
   "cell_type": "code",
   "execution_count": 44,
   "id": "b541f22a-9813-4018-9ad2-753536576ccb",
   "metadata": {},
   "outputs": [],
   "source": [
    "# Pascal Case (All are capital)\n",
    "\n",
    "# Test Variable Case\n",
    "\n",
    "TestVariableCase = 'Vanilla Swirl' "
   ]
  },
  {
   "cell_type": "code",
   "execution_count": null,
   "id": "54832ab5-f6c1-4b34-868f-d56abde76422",
   "metadata": {},
   "outputs": [],
   "source": [
    "# Snake Case\n",
    "\n",
    "# Test Variable Case\n",
    "\n",
    "test_variable_case = 'Vanilla Swirl'"
   ]
  },
  {
   "cell_type": "code",
   "execution_count": null,
   "id": "7cb25395-371a-4d9b-964e-8a157e7902e6",
   "metadata": {},
   "outputs": [],
   "source": [
    "# Good Variable Names\n",
    "\n",
    "testvar = 'Vanilla Swirl'\n",
    "\n",
    "test_var = 'Vanilla Swirl'\n",
    "\n",
    "_test_var = 'Vanilla Swirl'\n",
    "\n",
    "testVar = 'Vanilla Swirl'\n",
    "\n",
    "TestVar = 'Vanilla Swirl'\n",
    "\n",
    "testVar2 = 'Vanilla Swirl'"
   ]
  },
  {
   "cell_type": "code",
   "execution_count": null,
   "id": "61c0596d-75db-4a8a-bcd9-30f6169cb17e",
   "metadata": {},
   "outputs": [],
   "source": [
    "# Bad Variable \n",
    "\n",
    "2testvar = 'Vanilla Swirl'\n",
    "test-Var2 = 'Vanilla Swirl'\n",
    "test Var2 = 'Vanilla Swirl'\n",
    "test,Var2 = 'Vanilla Swirl'"
   ]
  },
  {
   "cell_type": "code",
   "id": "29b82f7b-b163-482f-83d2-7b21a1ed530e",
   "metadata": {
    "ExecuteTime": {
     "end_time": "2024-12-11T20:36:16.031336Z",
     "start_time": "2024-12-11T20:36:16.027950Z"
    }
   },
   "source": [
    "x = 'Ice Cream is my favorite' + '!'\n",
    "\n",
    "print(x)"
   ],
   "outputs": [
    {
     "name": "stdout",
     "output_type": "stream",
     "text": [
      "Ice Cream is my favorite!\n"
     ]
    }
   ],
   "execution_count": 9
  },
  {
   "cell_type": "code",
   "execution_count": 48,
   "id": "0fc263fa-defd-4754-b7d9-58faeb7e1c6b",
   "metadata": {},
   "outputs": [
    {
     "name": "stdout",
     "output_type": "stream",
     "text": [
      "5\n"
     ]
    }
   ],
   "source": [
    "y = 3 + 2\n",
    "\n",
    "print(y)"
   ]
  },
  {
   "cell_type": "code",
   "execution_count": 52,
   "id": "9e36adf0-e09d-43d7-a26b-19c9cf1a125b",
   "metadata": {},
   "outputs": [
    {
     "name": "stdout",
     "output_type": "stream",
     "text": [
      "Ice Cream is my favorite.\n"
     ]
    }
   ],
   "source": [
    "x = 'Ice Cream'\n",
    "\n",
    "y = ' is'\n",
    "\n",
    "z = ' my favorite.'\n",
    "\n",
    "print(x + y + z)\n"
   ]
  },
  {
   "cell_type": "code",
   "execution_count": 54,
   "id": "cc0677df-6b3c-4916-9132-c0b2d2a50a6c",
   "metadata": {},
   "outputs": [
    {
     "name": "stdout",
     "output_type": "stream",
     "text": [
      "6\n"
     ]
    }
   ],
   "source": [
    "x = 1 \n",
    "y = 2\n",
    "z = 3 \n",
    "\n",
    "print(x + y + z)"
   ]
  },
  {
   "cell_type": "code",
   "execution_count": 56,
   "id": "772d6e4a-1592-40e0-a9c3-bdd4b82016d6",
   "metadata": {},
   "outputs": [
    {
     "name": "stdout",
     "output_type": "stream",
     "text": [
      "Ice Cream 2\n"
     ]
    }
   ],
   "source": [
    "# Can combine a number and string using a comma rather than a +\n",
    "\n",
    "x = 'Ice Cream'\n",
    "y = 2\n",
    "\n",
    "\n",
    "print(x, y)\n"
   ]
  }
 ],
 "metadata": {
  "kernelspec": {
   "display_name": "Python 3 (ipykernel)",
   "language": "python",
   "name": "python3"
  },
  "language_info": {
   "codemirror_mode": {
    "name": "ipython",
    "version": 3
   },
   "file_extension": ".py",
   "mimetype": "text/x-python",
   "name": "python",
   "nbconvert_exporter": "python",
   "pygments_lexer": "ipython3",
   "version": "3.11.7"
  }
 },
 "nbformat": 4,
 "nbformat_minor": 5
}
