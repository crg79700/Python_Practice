{
 "cells": [
  {
   "metadata": {
    "ExecuteTime": {
     "end_time": "2025-03-12T18:53:21.665734Z",
     "start_time": "2025-03-12T18:53:21.658201Z"
    }
   },
   "cell_type": "code",
   "source": [
    "if 25 > 10:\n",
    "    print(\"It Worked\")"
   ],
   "id": "2736f5503aefff54",
   "outputs": [
    {
     "name": "stdout",
     "output_type": "stream",
     "text": [
      "It Worked\n"
     ]
    }
   ],
   "execution_count": 1
  },
  {
   "metadata": {
    "ExecuteTime": {
     "end_time": "2025-03-12T18:54:47.303791Z",
     "start_time": "2025-03-12T18:54:47.299773Z"
    }
   },
   "cell_type": "code",
   "source": [
    "if 25 > 10 or 25 < 10:\n",
    "    print(\"It Worked\")\n",
    "else:\n",
    "    print (\"It did not Work...\")"
   ],
   "id": "faca244d12d3b72f",
   "outputs": [
    {
     "name": "stdout",
     "output_type": "stream",
     "text": [
      "It Worked\n"
     ]
    }
   ],
   "execution_count": 5
  },
  {
   "metadata": {
    "ExecuteTime": {
     "end_time": "2025-03-12T18:57:01.027413Z",
     "start_time": "2025-03-12T18:57:01.022851Z"
    }
   },
   "cell_type": "code",
   "source": [
    "if 25 < 10:\n",
    "    print(\"It Worked\")\n",
    "elif 25 < 20:\n",
    "    print(\"elif 0 Worked\")\n",
    "elif 25 < 21:\n",
    "    print(\"elif 1 Worked\")\n",
    "elif 25 < 40:\n",
    "    print(\"elif 2 Worked\")\n",
    "elif 25 < 50:\n",
    "    print(\"elif 3 Worked\")\n",
    "elif 25 < 80:\n",
    "    print(\"elif 4 Worked\")\n",
    "else:\n",
    "    print (\"It did not Work...\")"
   ],
   "id": "53b39bf14feed59",
   "outputs": [
    {
     "name": "stdout",
     "output_type": "stream",
     "text": [
      "elif 2 Worked\n"
     ]
    }
   ],
   "execution_count": 6
  },
  {
   "metadata": {
    "ExecuteTime": {
     "end_time": "2025-03-12T18:57:37.352544Z",
     "start_time": "2025-03-12T18:57:37.349531Z"
    }
   },
   "cell_type": "code",
   "source": "print(\"It Worked\") if 10 > 30 else print(\"It did not work\")",
   "id": "b5ebca89cec2dcfe",
   "outputs": [
    {
     "name": "stdout",
     "output_type": "stream",
     "text": [
      "It did not work\n"
     ]
    }
   ],
   "execution_count": 8
  },
  {
   "metadata": {
    "ExecuteTime": {
     "end_time": "2025-03-12T18:59:24.612017Z",
     "start_time": "2025-03-12T18:59:24.608356Z"
    }
   },
   "cell_type": "code",
   "source": [
    "if 25 > 10 or 25 < 10:\n",
    "    print(\"It Worked\")\n",
    "    if 10 >5 :\n",
    "        print(\"The nested if statement Worked\")\n",
    "else:\n",
    "    print (\"It did not Work...\")"
   ],
   "id": "d6281b98c9664b94",
   "outputs": [
    {
     "name": "stdout",
     "output_type": "stream",
     "text": [
      "It Worked\n",
      "The nested if statement Worked\n"
     ]
    }
   ],
   "execution_count": 10
  }
 ],
 "metadata": {
  "kernelspec": {
   "name": "python3",
   "language": "python",
   "display_name": "Python 3 (ipykernel)"
  }
 },
 "nbformat": 5,
 "nbformat_minor": 9
}
