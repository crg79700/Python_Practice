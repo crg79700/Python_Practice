{
 "cells": [
  {
   "metadata": {},
   "cell_type": "code",
   "outputs": [],
   "execution_count": null,
   "source": [
    "# While Loops\n",
    "# Only loops while a specific condition is true, then exits the loop once it comes up as false\n"
   ],
   "id": "f215c46438461c21"
  },
  {
   "metadata": {
    "ExecuteTime": {
     "end_time": "2025-03-12T20:29:20.963501Z",
     "start_time": "2025-03-12T20:29:20.960397Z"
    }
   },
   "cell_type": "code",
   "source": [
    "num = 0\n",
    "\n",
    "while num <= 5:\n",
    "    print(num)\n",
    "    num += 1"
   ],
   "id": "762ce8271b1371c3",
   "outputs": [
    {
     "name": "stdout",
     "output_type": "stream",
     "text": [
      "0\n",
      "1\n",
      "2\n",
      "3\n",
      "4\n",
      "5\n"
     ]
    }
   ],
   "execution_count": 2
  },
  {
   "metadata": {
    "ExecuteTime": {
     "end_time": "2025-03-12T20:30:56.047912Z",
     "start_time": "2025-03-12T20:30:56.044496Z"
    }
   },
   "cell_type": "code",
   "source": [
    "# Break Statements\n",
    "\n",
    "num = 0\n",
    "\n",
    "while num <= 5:\n",
    "    print(num)\n",
    "    if num == 3:\n",
    "        break\n",
    "    num += 1"
   ],
   "id": "810153cb5c0e3a5b",
   "outputs": [
    {
     "name": "stdout",
     "output_type": "stream",
     "text": [
      "0\n",
      "1\n",
      "2\n",
      "3\n"
     ]
    }
   ],
   "execution_count": 10
  },
  {
   "metadata": {
    "ExecuteTime": {
     "end_time": "2025-03-12T20:31:30.306649Z",
     "start_time": "2025-03-12T20:31:30.303228Z"
    }
   },
   "cell_type": "code",
   "source": [
    "num = 0\n",
    "\n",
    "while num <= 5:\n",
    "    print(num)\n",
    "    if num == 6:\n",
    "        break\n",
    "    num += 1\n",
    "else:\n",
    "    print('No Longer < 5')"
   ],
   "id": "4761f77695f00903",
   "outputs": [
    {
     "name": "stdout",
     "output_type": "stream",
     "text": [
      "0\n",
      "1\n",
      "2\n",
      "3\n",
      "4\n",
      "5\n",
      "No Longer < 5\n"
     ]
    }
   ],
   "execution_count": 11
  },
  {
   "metadata": {
    "ExecuteTime": {
     "end_time": "2025-03-12T20:31:41.464801Z",
     "start_time": "2025-03-12T20:31:41.461232Z"
    }
   },
   "cell_type": "code",
   "source": [
    "num = 0\n",
    "\n",
    "while num <= 5:\n",
    "    print(num)\n",
    "    if num == 3:\n",
    "        break\n",
    "    num += 1\n",
    "else:\n",
    "    print('No Longer < 5')"
   ],
   "id": "788e0ea665a24a64",
   "outputs": [
    {
     "name": "stdout",
     "output_type": "stream",
     "text": [
      "0\n",
      "1\n",
      "2\n",
      "3\n"
     ]
    }
   ],
   "execution_count": 12
  },
  {
   "metadata": {
    "ExecuteTime": {
     "end_time": "2025-03-12T20:33:18.186369Z",
     "start_time": "2025-03-12T20:33:18.182846Z"
    }
   },
   "cell_type": "code",
   "source": [
    "num = 0\n",
    "\n",
    "while num <= 5:\n",
    "    num += 1\n",
    "    if num == 3:\n",
    "        continue\n",
    "    print(num)\n",
    "else:\n",
    "    print('No Longer < 5')"
   ],
   "id": "8b2583508103d0b2",
   "outputs": [
    {
     "name": "stdout",
     "output_type": "stream",
     "text": [
      "1\n",
      "2\n",
      "4\n",
      "5\n",
      "6\n",
      "No Longer < 5\n"
     ]
    }
   ],
   "execution_count": 16
  },
  {
   "metadata": {},
   "cell_type": "code",
   "outputs": [],
   "execution_count": null,
   "source": "",
   "id": "41d3af6483b8ac3"
  },
  {
   "metadata": {},
   "cell_type": "code",
   "outputs": [],
   "execution_count": null,
   "source": "",
   "id": "36111bbab764b3ad"
  },
  {
   "metadata": {},
   "cell_type": "code",
   "outputs": [],
   "execution_count": null,
   "source": "",
   "id": "f87bf46c6f6bdb3b"
  },
  {
   "metadata": {},
   "cell_type": "code",
   "outputs": [],
   "execution_count": null,
   "source": "",
   "id": "7878a9b9ef3490fd"
  },
  {
   "metadata": {},
   "cell_type": "code",
   "outputs": [],
   "execution_count": null,
   "source": "",
   "id": "8668000caf9a67d3"
  },
  {
   "metadata": {},
   "cell_type": "code",
   "outputs": [],
   "execution_count": null,
   "source": "",
   "id": "4c03c8e657000c2e"
  },
  {
   "metadata": {},
   "cell_type": "code",
   "outputs": [],
   "execution_count": null,
   "source": "",
   "id": "628fc01930d85162"
  }
 ],
 "metadata": {
  "kernelspec": {
   "name": "python3",
   "language": "python",
   "display_name": "Python 3 (ipykernel)"
  }
 },
 "nbformat": 5,
 "nbformat_minor": 9
}
