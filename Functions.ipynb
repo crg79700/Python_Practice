{
 "cells": [
  {
   "metadata": {
    "ExecuteTime": {
     "end_time": "2025-03-12T20:35:13.227102Z",
     "start_time": "2025-03-12T20:35:13.220295Z"
    }
   },
   "cell_type": "code",
   "source": [
    "def function():\n",
    "    print(\"My First Function\")\n",
    "\n",
    "function()"
   ],
   "id": "74f3986c36d76272",
   "outputs": [
    {
     "name": "stdout",
     "output_type": "stream",
     "text": [
      "My First Function\n"
     ]
    }
   ],
   "execution_count": 1
  },
  {
   "metadata": {
    "ExecuteTime": {
     "end_time": "2025-03-12T20:36:08.006148Z",
     "start_time": "2025-03-12T20:36:08.002870Z"
    }
   },
   "cell_type": "code",
   "source": [
    "def first_func():\n",
    "    print(\"We did it!\")\n",
    "\n",
    "first_func()"
   ],
   "id": "2cd2f49db8c61cf2",
   "outputs": [
    {
     "name": "stdout",
     "output_type": "stream",
     "text": [
      "We did it!\n"
     ]
    }
   ],
   "execution_count": 6
  },
  {
   "metadata": {
    "ExecuteTime": {
     "end_time": "2025-03-12T20:38:11.585461Z",
     "start_time": "2025-03-12T20:38:11.582544Z"
    }
   },
   "cell_type": "code",
   "source": [
    "def num_sq(num):\n",
    "    print(num**2)\n",
    "\n",
    "num_sq(5)"
   ],
   "id": "eb5587eb936d058d",
   "outputs": [
    {
     "name": "stdout",
     "output_type": "stream",
     "text": [
      "25\n"
     ]
    }
   ],
   "execution_count": 12
  },
  {
   "metadata": {
    "ExecuteTime": {
     "end_time": "2025-03-12T20:38:58.697782Z",
     "start_time": "2025-03-12T20:38:58.694284Z"
    }
   },
   "cell_type": "code",
   "source": [
    "def num_sq_cust(num, power):\n",
    "    print(num**power)\n",
    "\n",
    "num_sq_cust(5, 3)"
   ],
   "id": "61c7f3e9e695b5e3",
   "outputs": [
    {
     "name": "stdout",
     "output_type": "stream",
     "text": [
      "125\n"
     ]
    }
   ],
   "execution_count": 18
  },
  {
   "metadata": {
    "ExecuteTime": {
     "end_time": "2025-03-12T20:56:50.304253Z",
     "start_time": "2025-03-12T20:56:50.300727Z"
    }
   },
   "cell_type": "code",
   "source": [
    "args_tuple = (5, 6, 1, 2, 8)\n",
    "\n",
    "def num_args(*num):\n",
    "    print(num[0]*num[1])\n",
    "\n"
   ],
   "id": "754d8e5f9d4728bd",
   "outputs": [],
   "execution_count": 23
  },
  {
   "metadata": {
    "ExecuteTime": {
     "end_time": "2025-03-12T20:57:00.307128Z",
     "start_time": "2025-03-12T20:57:00.304155Z"
    }
   },
   "cell_type": "code",
   "source": "num_args(*args_tuple)",
   "id": "6f8bdb706d73c936",
   "outputs": [
    {
     "name": "stdout",
     "output_type": "stream",
     "text": [
      "30\n"
     ]
    }
   ],
   "execution_count": 24
  },
  {
   "metadata": {},
   "cell_type": "code",
   "outputs": [],
   "execution_count": null,
   "source": [
    "#Keyword Arguments\n",
    "def num_sq_cust(num, power):\n",
    "    print(num**power)"
   ],
   "id": "914e898ea32cee68"
  },
  {
   "metadata": {
    "ExecuteTime": {
     "end_time": "2025-03-12T20:58:17.778348Z",
     "start_time": "2025-03-12T20:58:17.774849Z"
    }
   },
   "cell_type": "code",
   "source": "num_sq_cust(power = 5, num = 3)",
   "id": "ddf4f6a739e771ba",
   "outputs": [
    {
     "name": "stdout",
     "output_type": "stream",
     "text": [
      "243\n"
     ]
    }
   ],
   "execution_count": 26
  },
  {
   "metadata": {
    "ExecuteTime": {
     "end_time": "2025-03-12T21:01:28.344517Z",
     "start_time": "2025-03-12T21:01:28.341401Z"
    }
   },
   "cell_type": "code",
   "source": [
    "def num_kwarg(**num):\n",
    "    print('My Number is: ' + num['i'] + ' My other number: ' + num['i2'])\n"
   ],
   "id": "de128c8ac6448e7b",
   "outputs": [],
   "execution_count": 33
  },
  {
   "metadata": {
    "ExecuteTime": {
     "end_time": "2025-03-12T21:01:30.329661Z",
     "start_time": "2025-03-12T21:01:30.325615Z"
    }
   },
   "cell_type": "code",
   "source": "num_kwarg(i = '2309', i2 = '12345')",
   "id": "10c2888991f915cf",
   "outputs": [
    {
     "name": "stdout",
     "output_type": "stream",
     "text": [
      "My Number is: 2309 My other number: 12345\n"
     ]
    }
   ],
   "execution_count": 34
  }
 ],
 "metadata": {
  "kernelspec": {
   "name": "python3",
   "language": "python",
   "display_name": "Python 3 (ipykernel)"
  }
 },
 "nbformat": 5,
 "nbformat_minor": 9
}
